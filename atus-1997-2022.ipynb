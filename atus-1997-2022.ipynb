{
 "cells": [
  {
   "cell_type": "markdown",
   "id": "8832cba4",
   "metadata": {
    "papermill": {
     "duration": 0.005025,
     "end_time": "2024-04-09T21:43:53.559486",
     "exception": false,
     "start_time": "2024-04-09T21:43:53.554461",
     "status": "completed"
    },
    "tags": []
   },
   "source": [
    "# Introduccion \n",
    "## Utilizando el dataset ATUS del sitio de Datos Abiertos del Gobierno Federal (https://datos.gob.mx/busca/dataset/accidentes-de-transito-terrestre-en-zonas-urbanas-y-suburbanas1)"
   ]
  },
  {
   "cell_type": "markdown",
   "id": "7cf06b0e",
   "metadata": {
    "papermill": {
     "duration": 0.004139,
     "end_time": "2024-04-09T21:43:53.568425",
     "exception": false,
     "start_time": "2024-04-09T21:43:53.564286",
     "status": "completed"
    },
    "tags": []
   },
   "source": [
    "## 1.-Cargue en un data frame los accicentes de los ultimos 3 años"
   ]
  },
  {
   "cell_type": "code",
   "execution_count": 1,
   "id": "5ba579fa",
   "metadata": {
    "_cell_guid": "b1076dfc-b9ad-4769-8c92-a6c4dae69d19",
    "_uuid": "8f2839f25d086af736a60e9eeb907d3b93b6e0e5",
    "execution": {
     "iopub.execute_input": "2024-04-09T21:43:53.579121Z",
     "iopub.status.busy": "2024-04-09T21:43:53.578566Z",
     "iopub.status.idle": "2024-04-09T21:44:03.602957Z",
     "shell.execute_reply": "2024-04-09T21:44:03.602022Z"
    },
    "papermill": {
     "duration": 10.032555,
     "end_time": "2024-04-09T21:44:03.605432",
     "exception": false,
     "start_time": "2024-04-09T21:43:53.572877",
     "status": "completed"
    },
    "tags": []
   },
   "outputs": [],
   "source": [
    "import pandas as pd\n",
    "df_2020 = pd.read_csv(\"../input/accidentes/atus_anual_2020.csv\", index_col=False)\n",
    "df_2021 = pd.read_csv(\"../input/accidentes/atus_anual_2021.csv\", index_col=False)\n",
    "df_2022 = pd.read_csv(\"../input/accidentes/atus_anual_2022.csv\", index_col=False)\n",
    "\n",
    "# para unirlos en uno solo\n",
    "df = pd.concat([df_2020, df_2021, df_2022], ignore_index=True)"
   ]
  },
  {
   "cell_type": "code",
   "execution_count": 2,
   "id": "82b46799",
   "metadata": {
    "execution": {
     "iopub.execute_input": "2024-04-09T21:44:03.615963Z",
     "iopub.status.busy": "2024-04-09T21:44:03.615616Z",
     "iopub.status.idle": "2024-04-09T21:44:03.645321Z",
     "shell.execute_reply": "2024-04-09T21:44:03.644223Z"
    },
    "papermill": {
     "duration": 0.037474,
     "end_time": "2024-04-09T21:44:03.647588",
     "exception": false,
     "start_time": "2024-04-09T21:44:03.610114",
     "status": "completed"
    },
    "tags": []
   },
   "outputs": [
    {
     "data": {
      "text/html": [
       "<div>\n",
       "<style scoped>\n",
       "    .dataframe tbody tr th:only-of-type {\n",
       "        vertical-align: middle;\n",
       "    }\n",
       "\n",
       "    .dataframe tbody tr th {\n",
       "        vertical-align: top;\n",
       "    }\n",
       "\n",
       "    .dataframe thead th {\n",
       "        text-align: right;\n",
       "    }\n",
       "</style>\n",
       "<table border=\"1\" class=\"dataframe\">\n",
       "  <thead>\n",
       "    <tr style=\"text-align: right;\">\n",
       "      <th></th>\n",
       "      <th>COBERTURA</th>\n",
       "      <th>ID_ENTIDAD</th>\n",
       "      <th>ID_MUNICIPIO</th>\n",
       "      <th>ANIO</th>\n",
       "      <th>MES</th>\n",
       "      <th>ID_HORA</th>\n",
       "      <th>ID_MINUTO</th>\n",
       "      <th>ID_DIA</th>\n",
       "      <th>DIASEMANA</th>\n",
       "      <th>URBANA</th>\n",
       "      <th>...</th>\n",
       "      <th>PEATMUERTO</th>\n",
       "      <th>PEATHERIDO</th>\n",
       "      <th>CICLMUERTO</th>\n",
       "      <th>CICLHERIDO</th>\n",
       "      <th>OTROMUERTO</th>\n",
       "      <th>OTROHERIDO</th>\n",
       "      <th>NEMUERTO</th>\n",
       "      <th>NEHERIDO</th>\n",
       "      <th>CLASACC</th>\n",
       "      <th>ESTATUS</th>\n",
       "    </tr>\n",
       "  </thead>\n",
       "  <tbody>\n",
       "    <tr>\n",
       "      <th>0</th>\n",
       "      <td>Municipal</td>\n",
       "      <td>1</td>\n",
       "      <td>1</td>\n",
       "      <td>2020</td>\n",
       "      <td>1</td>\n",
       "      <td>0</td>\n",
       "      <td>0</td>\n",
       "      <td>1</td>\n",
       "      <td>Miercoles</td>\n",
       "      <td>Accidente en intersección</td>\n",
       "      <td>...</td>\n",
       "      <td>0</td>\n",
       "      <td>0</td>\n",
       "      <td>0</td>\n",
       "      <td>0</td>\n",
       "      <td>0</td>\n",
       "      <td>0</td>\n",
       "      <td>0</td>\n",
       "      <td>0</td>\n",
       "      <td>Sólo daños</td>\n",
       "      <td>Cifras Definitivas</td>\n",
       "    </tr>\n",
       "    <tr>\n",
       "      <th>1</th>\n",
       "      <td>Municipal</td>\n",
       "      <td>1</td>\n",
       "      <td>1</td>\n",
       "      <td>2020</td>\n",
       "      <td>1</td>\n",
       "      <td>0</td>\n",
       "      <td>0</td>\n",
       "      <td>1</td>\n",
       "      <td>Miercoles</td>\n",
       "      <td>Accidente en intersección</td>\n",
       "      <td>...</td>\n",
       "      <td>0</td>\n",
       "      <td>0</td>\n",
       "      <td>0</td>\n",
       "      <td>0</td>\n",
       "      <td>0</td>\n",
       "      <td>0</td>\n",
       "      <td>0</td>\n",
       "      <td>0</td>\n",
       "      <td>Sólo daños</td>\n",
       "      <td>Cifras Definitivas</td>\n",
       "    </tr>\n",
       "    <tr>\n",
       "      <th>2</th>\n",
       "      <td>Municipal</td>\n",
       "      <td>1</td>\n",
       "      <td>1</td>\n",
       "      <td>2020</td>\n",
       "      <td>1</td>\n",
       "      <td>0</td>\n",
       "      <td>10</td>\n",
       "      <td>1</td>\n",
       "      <td>Miercoles</td>\n",
       "      <td>Accidente en intersección</td>\n",
       "      <td>...</td>\n",
       "      <td>0</td>\n",
       "      <td>0</td>\n",
       "      <td>0</td>\n",
       "      <td>0</td>\n",
       "      <td>0</td>\n",
       "      <td>0</td>\n",
       "      <td>0</td>\n",
       "      <td>0</td>\n",
       "      <td>Sólo daños</td>\n",
       "      <td>Cifras Definitivas</td>\n",
       "    </tr>\n",
       "    <tr>\n",
       "      <th>3</th>\n",
       "      <td>Municipal</td>\n",
       "      <td>1</td>\n",
       "      <td>1</td>\n",
       "      <td>2020</td>\n",
       "      <td>1</td>\n",
       "      <td>2</td>\n",
       "      <td>0</td>\n",
       "      <td>1</td>\n",
       "      <td>Miercoles</td>\n",
       "      <td>Accidente en intersección</td>\n",
       "      <td>...</td>\n",
       "      <td>0</td>\n",
       "      <td>0</td>\n",
       "      <td>0</td>\n",
       "      <td>0</td>\n",
       "      <td>0</td>\n",
       "      <td>0</td>\n",
       "      <td>0</td>\n",
       "      <td>0</td>\n",
       "      <td>Sólo daños</td>\n",
       "      <td>Cifras Definitivas</td>\n",
       "    </tr>\n",
       "    <tr>\n",
       "      <th>4</th>\n",
       "      <td>Municipal</td>\n",
       "      <td>1</td>\n",
       "      <td>1</td>\n",
       "      <td>2020</td>\n",
       "      <td>1</td>\n",
       "      <td>2</td>\n",
       "      <td>10</td>\n",
       "      <td>1</td>\n",
       "      <td>Miercoles</td>\n",
       "      <td>Accidente en intersección</td>\n",
       "      <td>...</td>\n",
       "      <td>0</td>\n",
       "      <td>0</td>\n",
       "      <td>0</td>\n",
       "      <td>0</td>\n",
       "      <td>0</td>\n",
       "      <td>0</td>\n",
       "      <td>0</td>\n",
       "      <td>0</td>\n",
       "      <td>Sólo daños</td>\n",
       "      <td>Cifras Definitivas</td>\n",
       "    </tr>\n",
       "  </tbody>\n",
       "</table>\n",
       "<p>5 rows × 45 columns</p>\n",
       "</div>"
      ],
      "text/plain": [
       "   COBERTURA  ID_ENTIDAD  ID_MUNICIPIO  ANIO  MES  ID_HORA  ID_MINUTO  ID_DIA  \\\n",
       "0  Municipal           1             1  2020    1        0          0       1   \n",
       "1  Municipal           1             1  2020    1        0          0       1   \n",
       "2  Municipal           1             1  2020    1        0         10       1   \n",
       "3  Municipal           1             1  2020    1        2          0       1   \n",
       "4  Municipal           1             1  2020    1        2         10       1   \n",
       "\n",
       "   DIASEMANA                     URBANA  ... PEATMUERTO PEATHERIDO  \\\n",
       "0  Miercoles  Accidente en intersección  ...          0          0   \n",
       "1  Miercoles  Accidente en intersección  ...          0          0   \n",
       "2  Miercoles  Accidente en intersección  ...          0          0   \n",
       "3  Miercoles  Accidente en intersección  ...          0          0   \n",
       "4  Miercoles  Accidente en intersección  ...          0          0   \n",
       "\n",
       "   CICLMUERTO  CICLHERIDO  OTROMUERTO  OTROHERIDO  NEMUERTO  NEHERIDO  \\\n",
       "0           0           0           0           0         0         0   \n",
       "1           0           0           0           0         0         0   \n",
       "2           0           0           0           0         0         0   \n",
       "3           0           0           0           0         0         0   \n",
       "4           0           0           0           0         0         0   \n",
       "\n",
       "      CLASACC             ESTATUS  \n",
       "0  Sólo daños  Cifras Definitivas  \n",
       "1  Sólo daños  Cifras Definitivas  \n",
       "2  Sólo daños  Cifras Definitivas  \n",
       "3  Sólo daños  Cifras Definitivas  \n",
       "4  Sólo daños  Cifras Definitivas  \n",
       "\n",
       "[5 rows x 45 columns]"
      ]
     },
     "execution_count": 2,
     "metadata": {},
     "output_type": "execute_result"
    }
   ],
   "source": [
    "df.head()"
   ]
  },
  {
   "cell_type": "markdown",
   "id": "902f22af",
   "metadata": {
    "papermill": {
     "duration": 0.00466,
     "end_time": "2024-04-09T21:44:03.657272",
     "exception": false,
     "start_time": "2024-04-09T21:44:03.652612",
     "status": "completed"
    },
    "tags": []
   },
   "source": [
    "## 2.-  Agregue una columna tipo date que englobe las columnas correspondientes a Año, Mes, Dia, Hora y Minuto."
   ]
  },
  {
   "cell_type": "code",
   "execution_count": 3,
   "id": "3273f6c1",
   "metadata": {
    "execution": {
     "iopub.execute_input": "2024-04-09T21:44:03.668792Z",
     "iopub.status.busy": "2024-04-09T21:44:03.668394Z",
     "iopub.status.idle": "2024-04-09T21:44:06.101606Z",
     "shell.execute_reply": "2024-04-09T21:44:06.100356Z"
    },
    "papermill": {
     "duration": 2.441808,
     "end_time": "2024-04-09T21:44:06.103919",
     "exception": false,
     "start_time": "2024-04-09T21:44:03.662111",
     "status": "completed"
    },
    "tags": []
   },
   "outputs": [
    {
     "name": "stdout",
     "output_type": "stream",
     "text": [
      "0     2020-1-1 0:0\n",
      "1     2020-1-1 0:0\n",
      "2    2020-1-1 0:10\n",
      "3     2020-1-1 2:0\n",
      "4    2020-1-1 2:10\n",
      "Name: date, dtype: object\n"
     ]
    }
   ],
   "source": [
    "# Convertir las columnas ANIO, MES, ID_DIA, ID_HORA e ID_MINUTO a cadenas de caracteres\n",
    "df['ANIO'] = df['ANIO'].astype(str)\n",
    "df['MES'] = df['MES'].astype(str)\n",
    "df['ID_DIA'] = df['ID_DIA'].astype(str)\n",
    "df['ID_HORA'] = df['ID_HORA'].astype(str)\n",
    "df['ID_MINUTO'] = df['ID_MINUTO'].astype(str)\n",
    "\n",
    "# Concatenar las columnas ANIO, MES, ID_DIA, ID_HORA e ID_MINUTO en la columna 'date' con separadores\n",
    "df[\"date\"] = df['ANIO'] + '-' + df[\"MES\"] + '-' + df[\"ID_DIA\"] + ' ' + df[\"ID_HORA\"] + ':' + df[\"ID_MINUTO\"]\n",
    "\n",
    "# Mostrar los primeros registros para verificar que la nueva columna 'date' se haya creado correctamente\n",
    "print(df[\"date\"].head())"
   ]
  },
  {
   "cell_type": "markdown",
   "id": "9519414b",
   "metadata": {
    "papermill": {
     "duration": 0.004748,
     "end_time": "2024-04-09T21:44:06.113786",
     "exception": false,
     "start_time": "2024-04-09T21:44:06.109038",
     "status": "completed"
    },
    "tags": []
   },
   "source": [
    "## 3.- Agregue una columna para Área cuyos valores serán Urbana o Suburbana dependiendo del área donde ocurrió el accidente."
   ]
  },
  {
   "cell_type": "code",
   "execution_count": 4,
   "id": "41b61ae2",
   "metadata": {
    "execution": {
     "iopub.execute_input": "2024-04-09T21:44:06.125379Z",
     "iopub.status.busy": "2024-04-09T21:44:06.125022Z",
     "iopub.status.idle": "2024-04-09T21:44:07.006852Z",
     "shell.execute_reply": "2024-04-09T21:44:07.006090Z"
    },
    "papermill": {
     "duration": 0.889934,
     "end_time": "2024-04-09T21:44:07.008706",
     "exception": false,
     "start_time": "2024-04-09T21:44:06.118772",
     "status": "completed"
    },
    "tags": []
   },
   "outputs": [
    {
     "data": {
      "text/plain": [
       "0    URBANA\n",
       "1    URBANA\n",
       "2    URBANA\n",
       "3    URBANA\n",
       "4    URBANA\n",
       "Name: ÁREA, dtype: object"
      ]
     },
     "execution_count": 4,
     "metadata": {},
     "output_type": "execute_result"
    }
   ],
   "source": [
    "#si la columna urbana contiene la cadena sin accidente ...  entonces la columna area toma el valor de SUBURBANA\n",
    "df.loc[df['URBANA'].str.contains('Sin accidente en esta zona'), 'ÁREA'] = 'SUBURBANA' \n",
    "#si la columna Suburbana contiene la cadena sin accidenten...  entonces la columna area toma el valor de URBANA\n",
    "df.loc[df['SUBURBANA'].str.contains('Sin accidente en esta zona'), 'ÁREA'] = 'URBANA'\n",
    "\n",
    "# Verificar el resultado\n",
    "df[\"ÁREA\"].head()"
   ]
  },
  {
   "cell_type": "markdown",
   "id": "18a89326",
   "metadata": {
    "execution": {
     "iopub.execute_input": "2024-04-09T20:26:08.145327Z",
     "iopub.status.busy": "2024-04-09T20:26:08.144934Z",
     "iopub.status.idle": "2024-04-09T20:26:08.483989Z",
     "shell.execute_reply": "2024-04-09T20:26:08.482723Z",
     "shell.execute_reply.started": "2024-04-09T20:26:08.145297Z"
    },
    "papermill": {
     "duration": 0.00482,
     "end_time": "2024-04-09T21:44:07.018713",
     "exception": false,
     "start_time": "2024-04-09T21:44:07.013893",
     "status": "completed"
    },
    "tags": []
   },
   "source": [
    "## 4.-Agregue una columna Zona cuyos valores serán la zona donde ocurrió el accidente"
   ]
  },
  {
   "cell_type": "code",
   "execution_count": 5,
   "id": "8cd865e3",
   "metadata": {
    "execution": {
     "iopub.execute_input": "2024-04-09T21:44:07.030607Z",
     "iopub.status.busy": "2024-04-09T21:44:07.029758Z",
     "iopub.status.idle": "2024-04-09T21:44:07.985310Z",
     "shell.execute_reply": "2024-04-09T21:44:07.984200Z"
    },
    "papermill": {
     "duration": 0.964021,
     "end_time": "2024-04-09T21:44:07.987643",
     "exception": false,
     "start_time": "2024-04-09T21:44:07.023622",
     "status": "completed"
    },
    "tags": []
   },
   "outputs": [
    {
     "data": {
      "text/html": [
       "<div>\n",
       "<style scoped>\n",
       "    .dataframe tbody tr th:only-of-type {\n",
       "        vertical-align: middle;\n",
       "    }\n",
       "\n",
       "    .dataframe tbody tr th {\n",
       "        vertical-align: top;\n",
       "    }\n",
       "\n",
       "    .dataframe thead th {\n",
       "        text-align: right;\n",
       "    }\n",
       "</style>\n",
       "<table border=\"1\" class=\"dataframe\">\n",
       "  <thead>\n",
       "    <tr style=\"text-align: right;\">\n",
       "      <th></th>\n",
       "      <th>COBERTURA</th>\n",
       "      <th>ID_ENTIDAD</th>\n",
       "      <th>ID_MUNICIPIO</th>\n",
       "      <th>ANIO</th>\n",
       "      <th>MES</th>\n",
       "      <th>ID_HORA</th>\n",
       "      <th>ID_MINUTO</th>\n",
       "      <th>ID_DIA</th>\n",
       "      <th>DIASEMANA</th>\n",
       "      <th>URBANA</th>\n",
       "      <th>...</th>\n",
       "      <th>CICLHERIDO</th>\n",
       "      <th>OTROMUERTO</th>\n",
       "      <th>OTROHERIDO</th>\n",
       "      <th>NEMUERTO</th>\n",
       "      <th>NEHERIDO</th>\n",
       "      <th>CLASACC</th>\n",
       "      <th>ESTATUS</th>\n",
       "      <th>date</th>\n",
       "      <th>ÁREA</th>\n",
       "      <th>ZONA</th>\n",
       "    </tr>\n",
       "  </thead>\n",
       "  <tbody>\n",
       "    <tr>\n",
       "      <th>0</th>\n",
       "      <td>Municipal</td>\n",
       "      <td>1</td>\n",
       "      <td>1</td>\n",
       "      <td>2020</td>\n",
       "      <td>1</td>\n",
       "      <td>0</td>\n",
       "      <td>0</td>\n",
       "      <td>1</td>\n",
       "      <td>Miercoles</td>\n",
       "      <td>Accidente en intersección</td>\n",
       "      <td>...</td>\n",
       "      <td>0</td>\n",
       "      <td>0</td>\n",
       "      <td>0</td>\n",
       "      <td>0</td>\n",
       "      <td>0</td>\n",
       "      <td>Sólo daños</td>\n",
       "      <td>Cifras Definitivas</td>\n",
       "      <td>2020-1-1 0:0</td>\n",
       "      <td>URBANA</td>\n",
       "      <td>Accidente en intersección</td>\n",
       "    </tr>\n",
       "    <tr>\n",
       "      <th>1</th>\n",
       "      <td>Municipal</td>\n",
       "      <td>1</td>\n",
       "      <td>1</td>\n",
       "      <td>2020</td>\n",
       "      <td>1</td>\n",
       "      <td>0</td>\n",
       "      <td>0</td>\n",
       "      <td>1</td>\n",
       "      <td>Miercoles</td>\n",
       "      <td>Accidente en intersección</td>\n",
       "      <td>...</td>\n",
       "      <td>0</td>\n",
       "      <td>0</td>\n",
       "      <td>0</td>\n",
       "      <td>0</td>\n",
       "      <td>0</td>\n",
       "      <td>Sólo daños</td>\n",
       "      <td>Cifras Definitivas</td>\n",
       "      <td>2020-1-1 0:0</td>\n",
       "      <td>URBANA</td>\n",
       "      <td>Accidente en intersección</td>\n",
       "    </tr>\n",
       "    <tr>\n",
       "      <th>2</th>\n",
       "      <td>Municipal</td>\n",
       "      <td>1</td>\n",
       "      <td>1</td>\n",
       "      <td>2020</td>\n",
       "      <td>1</td>\n",
       "      <td>0</td>\n",
       "      <td>10</td>\n",
       "      <td>1</td>\n",
       "      <td>Miercoles</td>\n",
       "      <td>Accidente en intersección</td>\n",
       "      <td>...</td>\n",
       "      <td>0</td>\n",
       "      <td>0</td>\n",
       "      <td>0</td>\n",
       "      <td>0</td>\n",
       "      <td>0</td>\n",
       "      <td>Sólo daños</td>\n",
       "      <td>Cifras Definitivas</td>\n",
       "      <td>2020-1-1 0:10</td>\n",
       "      <td>URBANA</td>\n",
       "      <td>Accidente en intersección</td>\n",
       "    </tr>\n",
       "    <tr>\n",
       "      <th>3</th>\n",
       "      <td>Municipal</td>\n",
       "      <td>1</td>\n",
       "      <td>1</td>\n",
       "      <td>2020</td>\n",
       "      <td>1</td>\n",
       "      <td>2</td>\n",
       "      <td>0</td>\n",
       "      <td>1</td>\n",
       "      <td>Miercoles</td>\n",
       "      <td>Accidente en intersección</td>\n",
       "      <td>...</td>\n",
       "      <td>0</td>\n",
       "      <td>0</td>\n",
       "      <td>0</td>\n",
       "      <td>0</td>\n",
       "      <td>0</td>\n",
       "      <td>Sólo daños</td>\n",
       "      <td>Cifras Definitivas</td>\n",
       "      <td>2020-1-1 2:0</td>\n",
       "      <td>URBANA</td>\n",
       "      <td>Accidente en intersección</td>\n",
       "    </tr>\n",
       "    <tr>\n",
       "      <th>4</th>\n",
       "      <td>Municipal</td>\n",
       "      <td>1</td>\n",
       "      <td>1</td>\n",
       "      <td>2020</td>\n",
       "      <td>1</td>\n",
       "      <td>2</td>\n",
       "      <td>10</td>\n",
       "      <td>1</td>\n",
       "      <td>Miercoles</td>\n",
       "      <td>Accidente en intersección</td>\n",
       "      <td>...</td>\n",
       "      <td>0</td>\n",
       "      <td>0</td>\n",
       "      <td>0</td>\n",
       "      <td>0</td>\n",
       "      <td>0</td>\n",
       "      <td>Sólo daños</td>\n",
       "      <td>Cifras Definitivas</td>\n",
       "      <td>2020-1-1 2:10</td>\n",
       "      <td>URBANA</td>\n",
       "      <td>Accidente en intersección</td>\n",
       "    </tr>\n",
       "  </tbody>\n",
       "</table>\n",
       "<p>5 rows × 48 columns</p>\n",
       "</div>"
      ],
      "text/plain": [
       "   COBERTURA  ID_ENTIDAD  ID_MUNICIPIO  ANIO MES ID_HORA ID_MINUTO ID_DIA  \\\n",
       "0  Municipal           1             1  2020   1       0         0      1   \n",
       "1  Municipal           1             1  2020   1       0         0      1   \n",
       "2  Municipal           1             1  2020   1       0        10      1   \n",
       "3  Municipal           1             1  2020   1       2         0      1   \n",
       "4  Municipal           1             1  2020   1       2        10      1   \n",
       "\n",
       "   DIASEMANA                     URBANA  ... CICLHERIDO OTROMUERTO  \\\n",
       "0  Miercoles  Accidente en intersección  ...          0          0   \n",
       "1  Miercoles  Accidente en intersección  ...          0          0   \n",
       "2  Miercoles  Accidente en intersección  ...          0          0   \n",
       "3  Miercoles  Accidente en intersección  ...          0          0   \n",
       "4  Miercoles  Accidente en intersección  ...          0          0   \n",
       "\n",
       "   OTROHERIDO  NEMUERTO  NEHERIDO     CLASACC             ESTATUS  \\\n",
       "0           0         0         0  Sólo daños  Cifras Definitivas   \n",
       "1           0         0         0  Sólo daños  Cifras Definitivas   \n",
       "2           0         0         0  Sólo daños  Cifras Definitivas   \n",
       "3           0         0         0  Sólo daños  Cifras Definitivas   \n",
       "4           0         0         0  Sólo daños  Cifras Definitivas   \n",
       "\n",
       "            date    ÁREA                       ZONA  \n",
       "0   2020-1-1 0:0  URBANA  Accidente en intersección  \n",
       "1   2020-1-1 0:0  URBANA  Accidente en intersección  \n",
       "2  2020-1-1 0:10  URBANA  Accidente en intersección  \n",
       "3   2020-1-1 2:0  URBANA  Accidente en intersección  \n",
       "4  2020-1-1 2:10  URBANA  Accidente en intersección  \n",
       "\n",
       "[5 rows x 48 columns]"
      ]
     },
     "execution_count": 5,
     "metadata": {},
     "output_type": "execute_result"
    }
   ],
   "source": [
    "\n",
    "#si la columna urbana contiene la cadena sin accidente ...  entonces la columna ZONA  toma el valor de la columna Suburbana\n",
    "df.loc[df['URBANA'].str.contains('Sin accidente en esta zona'), 'ZONA'] = df[\"SUBURBANA\"] \n",
    "#si la columna Suburbana contiene la cadena sin accidenten...  entonces la columna ZONA toma el valor de la columna URBANA\n",
    "df.loc[df['SUBURBANA'].str.contains('Sin accidente en esta zona'), 'ZONA'] = df[\"URBANA\"]\n",
    "#verificar resultado\n",
    "df.head()"
   ]
  },
  {
   "cell_type": "markdown",
   "id": "a0644fae",
   "metadata": {
    "execution": {
     "iopub.execute_input": "2024-04-09T20:41:17.368050Z",
     "iopub.status.busy": "2024-04-09T20:41:17.367647Z",
     "iopub.status.idle": "2024-04-09T20:41:17.374228Z",
     "shell.execute_reply": "2024-04-09T20:41:17.372891Z",
     "shell.execute_reply.started": "2024-04-09T20:41:17.368021Z"
    },
    "papermill": {
     "duration": 0.005012,
     "end_time": "2024-04-09T21:44:07.998169",
     "exception": false,
     "start_time": "2024-04-09T21:44:07.993157",
     "status": "completed"
    },
    "tags": []
   },
   "source": [
    "## 5.-Eliminar la columna urbana y suburbana"
   ]
  },
  {
   "cell_type": "code",
   "execution_count": 6,
   "id": "60401a1f",
   "metadata": {
    "execution": {
     "iopub.execute_input": "2024-04-09T21:44:08.011681Z",
     "iopub.status.busy": "2024-04-09T21:44:08.010952Z",
     "iopub.status.idle": "2024-04-09T21:44:08.032764Z",
     "shell.execute_reply": "2024-04-09T21:44:08.031722Z"
    },
    "papermill": {
     "duration": 0.031544,
     "end_time": "2024-04-09T21:44:08.034920",
     "exception": false,
     "start_time": "2024-04-09T21:44:08.003376",
     "status": "completed"
    },
    "tags": []
   },
   "outputs": [
    {
     "data": {
      "text/html": [
       "<div>\n",
       "<style scoped>\n",
       "    .dataframe tbody tr th:only-of-type {\n",
       "        vertical-align: middle;\n",
       "    }\n",
       "\n",
       "    .dataframe tbody tr th {\n",
       "        vertical-align: top;\n",
       "    }\n",
       "\n",
       "    .dataframe thead th {\n",
       "        text-align: right;\n",
       "    }\n",
       "</style>\n",
       "<table border=\"1\" class=\"dataframe\">\n",
       "  <thead>\n",
       "    <tr style=\"text-align: right;\">\n",
       "      <th></th>\n",
       "      <th>COBERTURA</th>\n",
       "      <th>ID_ENTIDAD</th>\n",
       "      <th>ID_MUNICIPIO</th>\n",
       "      <th>ANIO</th>\n",
       "      <th>MES</th>\n",
       "      <th>ID_HORA</th>\n",
       "      <th>ID_MINUTO</th>\n",
       "      <th>ID_DIA</th>\n",
       "      <th>DIASEMANA</th>\n",
       "      <th>TIPACCID</th>\n",
       "      <th>...</th>\n",
       "      <th>CICLHERIDO</th>\n",
       "      <th>OTROMUERTO</th>\n",
       "      <th>OTROHERIDO</th>\n",
       "      <th>NEMUERTO</th>\n",
       "      <th>NEHERIDO</th>\n",
       "      <th>CLASACC</th>\n",
       "      <th>ESTATUS</th>\n",
       "      <th>date</th>\n",
       "      <th>ÁREA</th>\n",
       "      <th>ZONA</th>\n",
       "    </tr>\n",
       "  </thead>\n",
       "  <tbody>\n",
       "    <tr>\n",
       "      <th>0</th>\n",
       "      <td>Municipal</td>\n",
       "      <td>1</td>\n",
       "      <td>1</td>\n",
       "      <td>2020</td>\n",
       "      <td>1</td>\n",
       "      <td>0</td>\n",
       "      <td>0</td>\n",
       "      <td>1</td>\n",
       "      <td>Miercoles</td>\n",
       "      <td>Colisión con vehículo automotor</td>\n",
       "      <td>...</td>\n",
       "      <td>0</td>\n",
       "      <td>0</td>\n",
       "      <td>0</td>\n",
       "      <td>0</td>\n",
       "      <td>0</td>\n",
       "      <td>Sólo daños</td>\n",
       "      <td>Cifras Definitivas</td>\n",
       "      <td>2020-1-1 0:0</td>\n",
       "      <td>URBANA</td>\n",
       "      <td>Accidente en intersección</td>\n",
       "    </tr>\n",
       "    <tr>\n",
       "      <th>1</th>\n",
       "      <td>Municipal</td>\n",
       "      <td>1</td>\n",
       "      <td>1</td>\n",
       "      <td>2020</td>\n",
       "      <td>1</td>\n",
       "      <td>0</td>\n",
       "      <td>0</td>\n",
       "      <td>1</td>\n",
       "      <td>Miercoles</td>\n",
       "      <td>Colisión con objeto fijo</td>\n",
       "      <td>...</td>\n",
       "      <td>0</td>\n",
       "      <td>0</td>\n",
       "      <td>0</td>\n",
       "      <td>0</td>\n",
       "      <td>0</td>\n",
       "      <td>Sólo daños</td>\n",
       "      <td>Cifras Definitivas</td>\n",
       "      <td>2020-1-1 0:0</td>\n",
       "      <td>URBANA</td>\n",
       "      <td>Accidente en intersección</td>\n",
       "    </tr>\n",
       "    <tr>\n",
       "      <th>2</th>\n",
       "      <td>Municipal</td>\n",
       "      <td>1</td>\n",
       "      <td>1</td>\n",
       "      <td>2020</td>\n",
       "      <td>1</td>\n",
       "      <td>0</td>\n",
       "      <td>10</td>\n",
       "      <td>1</td>\n",
       "      <td>Miercoles</td>\n",
       "      <td>Colisión con motocicleta</td>\n",
       "      <td>...</td>\n",
       "      <td>0</td>\n",
       "      <td>0</td>\n",
       "      <td>0</td>\n",
       "      <td>0</td>\n",
       "      <td>0</td>\n",
       "      <td>Sólo daños</td>\n",
       "      <td>Cifras Definitivas</td>\n",
       "      <td>2020-1-1 0:10</td>\n",
       "      <td>URBANA</td>\n",
       "      <td>Accidente en intersección</td>\n",
       "    </tr>\n",
       "    <tr>\n",
       "      <th>3</th>\n",
       "      <td>Municipal</td>\n",
       "      <td>1</td>\n",
       "      <td>1</td>\n",
       "      <td>2020</td>\n",
       "      <td>1</td>\n",
       "      <td>2</td>\n",
       "      <td>0</td>\n",
       "      <td>1</td>\n",
       "      <td>Miercoles</td>\n",
       "      <td>Colisión con vehículo automotor</td>\n",
       "      <td>...</td>\n",
       "      <td>0</td>\n",
       "      <td>0</td>\n",
       "      <td>0</td>\n",
       "      <td>0</td>\n",
       "      <td>0</td>\n",
       "      <td>Sólo daños</td>\n",
       "      <td>Cifras Definitivas</td>\n",
       "      <td>2020-1-1 2:0</td>\n",
       "      <td>URBANA</td>\n",
       "      <td>Accidente en intersección</td>\n",
       "    </tr>\n",
       "    <tr>\n",
       "      <th>4</th>\n",
       "      <td>Municipal</td>\n",
       "      <td>1</td>\n",
       "      <td>1</td>\n",
       "      <td>2020</td>\n",
       "      <td>1</td>\n",
       "      <td>2</td>\n",
       "      <td>10</td>\n",
       "      <td>1</td>\n",
       "      <td>Miercoles</td>\n",
       "      <td>Colisión con vehículo automotor</td>\n",
       "      <td>...</td>\n",
       "      <td>0</td>\n",
       "      <td>0</td>\n",
       "      <td>0</td>\n",
       "      <td>0</td>\n",
       "      <td>0</td>\n",
       "      <td>Sólo daños</td>\n",
       "      <td>Cifras Definitivas</td>\n",
       "      <td>2020-1-1 2:10</td>\n",
       "      <td>URBANA</td>\n",
       "      <td>Accidente en intersección</td>\n",
       "    </tr>\n",
       "  </tbody>\n",
       "</table>\n",
       "<p>5 rows × 46 columns</p>\n",
       "</div>"
      ],
      "text/plain": [
       "   COBERTURA  ID_ENTIDAD  ID_MUNICIPIO  ANIO MES ID_HORA ID_MINUTO ID_DIA  \\\n",
       "0  Municipal           1             1  2020   1       0         0      1   \n",
       "1  Municipal           1             1  2020   1       0         0      1   \n",
       "2  Municipal           1             1  2020   1       0        10      1   \n",
       "3  Municipal           1             1  2020   1       2         0      1   \n",
       "4  Municipal           1             1  2020   1       2        10      1   \n",
       "\n",
       "   DIASEMANA                         TIPACCID  ...  CICLHERIDO  OTROMUERTO  \\\n",
       "0  Miercoles  Colisión con vehículo automotor  ...           0           0   \n",
       "1  Miercoles         Colisión con objeto fijo  ...           0           0   \n",
       "2  Miercoles         Colisión con motocicleta  ...           0           0   \n",
       "3  Miercoles  Colisión con vehículo automotor  ...           0           0   \n",
       "4  Miercoles  Colisión con vehículo automotor  ...           0           0   \n",
       "\n",
       "   OTROHERIDO  NEMUERTO  NEHERIDO     CLASACC             ESTATUS  \\\n",
       "0           0         0         0  Sólo daños  Cifras Definitivas   \n",
       "1           0         0         0  Sólo daños  Cifras Definitivas   \n",
       "2           0         0         0  Sólo daños  Cifras Definitivas   \n",
       "3           0         0         0  Sólo daños  Cifras Definitivas   \n",
       "4           0         0         0  Sólo daños  Cifras Definitivas   \n",
       "\n",
       "            date    ÁREA                       ZONA  \n",
       "0   2020-1-1 0:0  URBANA  Accidente en intersección  \n",
       "1   2020-1-1 0:0  URBANA  Accidente en intersección  \n",
       "2  2020-1-1 0:10  URBANA  Accidente en intersección  \n",
       "3   2020-1-1 2:0  URBANA  Accidente en intersección  \n",
       "4  2020-1-1 2:10  URBANA  Accidente en intersección  \n",
       "\n",
       "[5 rows x 46 columns]"
      ]
     },
     "execution_count": 6,
     "metadata": {},
     "output_type": "execute_result"
    }
   ],
   "source": [
    "#ELIMINAR COLUMNA URBANA \n",
    "del df[\"URBANA\"]\n",
    "#ELIMINAR COLUMNA SUBURBANA\n",
    "del df[\"SUBURBANA\"]\n",
    "\n",
    "#Verificar resultado\n",
    "df.head()"
   ]
  },
  {
   "cell_type": "markdown",
   "id": "7843db33",
   "metadata": {
    "papermill": {
     "duration": 0.005478,
     "end_time": "2024-04-09T21:44:08.046100",
     "exception": false,
     "start_time": "2024-04-09T21:44:08.040622",
     "status": "completed"
    },
    "tags": []
   },
   "source": [
    "## 6.- Determine cual municipio de cada estado tuvo más meses sin accidentes"
   ]
  },
  {
   "cell_type": "code",
   "execution_count": null,
   "id": "6775ba75",
   "metadata": {
    "execution": {
     "iopub.execute_input": "2024-04-09T21:37:34.153877Z",
     "iopub.status.busy": "2024-04-09T21:37:34.153461Z",
     "iopub.status.idle": "2024-04-09T21:38:36.771902Z",
     "shell.execute_reply": "2024-04-09T21:38:36.770139Z",
     "shell.execute_reply.started": "2024-04-09T21:37:34.153846Z"
    },
    "papermill": {
     "duration": 0.00528,
     "end_time": "2024-04-09T21:44:08.057011",
     "exception": false,
     "start_time": "2024-04-09T21:44:08.051731",
     "status": "completed"
    },
    "tags": []
   },
   "outputs": [],
   "source": []
  },
  {
   "cell_type": "markdown",
   "id": "83127bd9",
   "metadata": {
    "papermill": {
     "duration": 0.005422,
     "end_time": "2024-04-09T21:44:08.067892",
     "exception": false,
     "start_time": "2024-04-09T21:44:08.062470",
     "status": "completed"
    },
    "tags": []
   },
   "source": [
    "## 7.-  Resuma los accidentes del último año por tipo y que porcentaje representan"
   ]
  },
  {
   "cell_type": "code",
   "execution_count": 7,
   "id": "d94c5d7e",
   "metadata": {
    "execution": {
     "iopub.execute_input": "2024-04-09T21:44:08.080784Z",
     "iopub.status.busy": "2024-04-09T21:44:08.080384Z",
     "iopub.status.idle": "2024-04-09T21:44:08.430984Z",
     "shell.execute_reply": "2024-04-09T21:44:08.429836Z"
    },
    "papermill": {
     "duration": 0.361419,
     "end_time": "2024-04-09T21:44:08.434801",
     "exception": false,
     "start_time": "2024-04-09T21:44:08.073382",
     "status": "completed"
    },
    "tags": []
   },
   "outputs": [
    {
     "name": "stdout",
     "output_type": "stream",
     "text": [
      "                        Tipo de Accidente  Frecuencia  Porcentaje\n",
      "0         Colisión con vehículo automotor      229940   58.552112\n",
      "1                Colisión con motocicleta       53629   13.656133\n",
      "2                Colisión con objeto fijo       47033   11.976522\n",
      "3                        Certificado cero       15479    3.941585\n",
      "4   Colisión con peatón (atropellamiento)       11066    2.817855\n",
      "5                               Volcadura       10911    2.778386\n",
      "6                       Salida del camino       10857    2.764635\n",
      "7                                    Otro        6325    1.610603\n",
      "8                   Colisión con ciclista        4048    1.030786\n",
      "9                       Caída de pasajero        1784    0.454279\n",
      "10                    Colisión con animal        1022    0.260243\n",
      "11                               Incendio         348    0.088615\n",
      "12               Colisión con ferrocarril         268    0.068244\n"
     ]
    }
   ],
   "source": [
    "\n",
    "#Filtrar los datos para obtener solo los accidentes del último año\n",
    "ultimo_anio = df['ANIO'].max()\n",
    "accidentes_ultimo_anio = df[df['ANIO'] == ultimo_anio]\n",
    "\n",
    "#Contar la frecuencia de cada tipo de accidente\n",
    "resumen_accidentes = accidentes_ultimo_anio['TIPACCID'].value_counts().reset_index()\n",
    "resumen_accidentes.columns = ['Tipo de Accidente', 'Frecuencia']\n",
    "\n",
    "#Calcular el porcentaje que representa cada tipo de accidente\n",
    "total_accidentes = resumen_accidentes['Frecuencia'].sum()\n",
    "resumen_accidentes['Porcentaje'] = (resumen_accidentes['Frecuencia'] / total_accidentes) * 100\n",
    "\n",
    "# Mostrar el resumen\n",
    "print(resumen_accidentes)"
   ]
  },
  {
   "cell_type": "markdown",
   "id": "6ceb74b6",
   "metadata": {
    "papermill": {
     "duration": 0.005528,
     "end_time": "2024-04-09T21:44:08.446358",
     "exception": false,
     "start_time": "2024-04-09T21:44:08.440830",
     "status": "completed"
    },
    "tags": []
   },
   "source": [
    "## 8.-Obtenga la cantidad de muertos y lesionados de los ultimos 3 años"
   ]
  },
  {
   "cell_type": "code",
   "execution_count": 8,
   "id": "523c2ad4",
   "metadata": {
    "execution": {
     "iopub.execute_input": "2024-04-09T21:44:08.460868Z",
     "iopub.status.busy": "2024-04-09T21:44:08.459320Z",
     "iopub.status.idle": "2024-04-09T21:44:08.517724Z",
     "shell.execute_reply": "2024-04-09T21:44:08.516652Z"
    },
    "papermill": {
     "duration": 0.068063,
     "end_time": "2024-04-09T21:44:08.520100",
     "exception": false,
     "start_time": "2024-04-09T21:44:08.452037",
     "status": "completed"
    },
    "tags": []
   },
   "outputs": [
    {
     "name": "stdout",
     "output_type": "stream",
     "text": [
      "Total de muertos en los últimos 3 años: 13408\n",
      "Total de lesionados en los últimos 3 años: 245902\n"
     ]
    }
   ],
   "source": [
    "# Columnas que contienen la cantidad de muertos y lesionados\n",
    "columnas_muertos = ['CONDMUERTO', 'PASAMUERTO', 'PEATMUERTO', 'CICLMUERTO', 'OTROMUERTO', 'NEMUERTO']\n",
    "columnas_lesionados = ['CONDHERIDO', 'PASAHERIDO', 'PEATHERIDO', 'CICLHERIDO', 'OTROHERIDO', 'NEHERIDO']\n",
    "\n",
    "# Sumar las columnas que contienen la cantidad de muertos y lesionados\n",
    "total_muertos = df[columnas_muertos].sum().sum()\n",
    "total_lesionados = df[columnas_lesionados].sum().sum()\n",
    "\n",
    "# Mostrar el total de muertos y lesionados\n",
    "print(\"Total de muertos en los últimos 3 años:\", total_muertos)\n",
    "print(\"Total de lesionados en los últimos 3 años:\", total_lesionados)"
   ]
  },
  {
   "cell_type": "markdown",
   "id": "12e6b373",
   "metadata": {
    "papermill": {
     "duration": 0.005676,
     "end_time": "2024-04-09T21:44:08.531730",
     "exception": false,
     "start_time": "2024-04-09T21:44:08.526054",
     "status": "completed"
    },
    "tags": []
   },
   "source": [
    "## 9.-¿Cómo se compara el número de accidentes de cada año contra el anterior? ¿En qué porcentaje varió?"
   ]
  },
  {
   "cell_type": "code",
   "execution_count": 9,
   "id": "951729c0",
   "metadata": {
    "execution": {
     "iopub.execute_input": "2024-04-09T21:44:08.545449Z",
     "iopub.status.busy": "2024-04-09T21:44:08.544747Z",
     "iopub.status.idle": "2024-04-09T21:44:08.653847Z",
     "shell.execute_reply": "2024-04-09T21:44:08.652753Z"
    },
    "papermill": {
     "duration": 0.119552,
     "end_time": "2024-04-09T21:44:08.657092",
     "exception": false,
     "start_time": "2024-04-09T21:44:08.537540",
     "status": "completed"
    },
    "tags": []
   },
   "outputs": [
    {
     "name": "stdout",
     "output_type": "stream",
     "text": [
      "Número de accidentes por año:\n",
      "ANIO\n",
      "2020    318046\n",
      "2021    356315\n",
      "2022    392710\n",
      "dtype: int64\n",
      "\n",
      "Diferencia en el número de accidentes respecto al año anterior:\n",
      "ANIO\n",
      "2020        NaN\n",
      "2021    38269.0\n",
      "2022    36395.0\n",
      "dtype: float64\n",
      "\n",
      "Variación porcentual de accidentes respecto al año anterior:\n",
      "ANIO\n",
      "2020          NaN\n",
      "2021    12.032536\n",
      "2022    10.214277\n",
      "dtype: float64\n"
     ]
    }
   ],
   "source": [
    "# 1. Agrupar los datos por año y contar el número de accidentes para cada año\n",
    "accidentes_por_anio = df.groupby('ANIO').size()\n",
    "\n",
    "# 2. Calcular la diferencia entre el número de accidentes de cada año y el año anterior\n",
    "diferencia_accidentes = accidentes_por_anio.diff()\n",
    "\n",
    "# 3. Calcular la variación porcentual entre cada año y el anterior\n",
    "variacion_porcentual = (diferencia_accidentes / accidentes_por_anio.shift()) * 100\n",
    "\n",
    "# 4. Mostrar los resultados\n",
    "print(\"Número de accidentes por año:\")\n",
    "print(accidentes_por_anio)\n",
    "\n",
    "print(\"\\nDiferencia en el número de accidentes respecto al año anterior:\")\n",
    "print(diferencia_accidentes)\n",
    "\n",
    "print(\"\\nVariación porcentual de accidentes respecto al año anterior:\")\n",
    "print(variacion_porcentual)"
   ]
  }
 ],
 "metadata": {
  "kaggle": {
   "accelerator": "none",
   "dataSources": [
    {
     "datasetId": 4766018,
     "sourceId": 8075970,
     "sourceType": "datasetVersion"
    }
   ],
   "dockerImageVersionId": 30684,
   "isGpuEnabled": false,
   "isInternetEnabled": false,
   "language": "python",
   "sourceType": "notebook"
  },
  "kernelspec": {
   "display_name": "Python 3",
   "language": "python",
   "name": "python3"
  },
  "language_info": {
   "codemirror_mode": {
    "name": "ipython",
    "version": 3
   },
   "file_extension": ".py",
   "mimetype": "text/x-python",
   "name": "python",
   "nbconvert_exporter": "python",
   "pygments_lexer": "ipython3",
   "version": "3.10.13"
  },
  "papermill": {
   "default_parameters": {},
   "duration": 18.304457,
   "end_time": "2024-04-09T21:44:09.283982",
   "environment_variables": {},
   "exception": null,
   "input_path": "__notebook__.ipynb",
   "output_path": "__notebook__.ipynb",
   "parameters": {},
   "start_time": "2024-04-09T21:43:50.979525",
   "version": "2.5.0"
  }
 },
 "nbformat": 4,
 "nbformat_minor": 5
}
